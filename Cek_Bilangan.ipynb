{
  "nbformat": 4,
  "nbformat_minor": 0,
  "metadata": {
    "colab": {
      "provenance": [],
      "authorship_tag": "ABX9TyOZqa62cFzFvAkSxoof656s",
      "include_colab_link": true
    },
    "kernelspec": {
      "name": "python3",
      "display_name": "Python 3"
    },
    "language_info": {
      "name": "python"
    }
  },
  "cells": [
    {
      "cell_type": "markdown",
      "metadata": {
        "id": "view-in-github",
        "colab_type": "text"
      },
      "source": [
        "<a href=\"https://colab.research.google.com/github/kotaksuusu/2025_PBO_TI1A_12_Bilangan/blob/main/Cek_Bilangan.ipynb\" target=\"_parent\"><img src=\"https://colab.research.google.com/assets/colab-badge.svg\" alt=\"Open In Colab\"/></a>"
      ]
    },
    {
      "cell_type": "code",
      "execution_count": null,
      "metadata": {
        "colab": {
          "base_uri": "https://localhost:8080/"
        },
        "id": "gFCPxzpe0_cW",
        "outputId": "117ae91a-c520-4ff5-989e-3657c200ce9a"
      },
      "outputs": [
        {
          "name": "stdout",
          "output_type": "stream",
          "text": [
            "Masukkan bilangan: 3\n"
          ]
        }
      ],
      "source": [
        "angka = int(input(\"Masukkan bilangan: \"))"
      ]
    },
    {
      "cell_type": "code",
      "source": [
        "def cek_prima(n):\n",
        "    if n < 2:\n",
        "        return False\n",
        "    for i in range(2, int(n ** 0.5) + 1):\n",
        "        if n % i == 0:\n",
        "            return False\n",
        "    return True\n",
        "\n",
        "def cek_bilangan(n):\n",
        "    if n % 2 == 0:\n",
        "        jenis = \"Genap\"\n",
        "    else:\n",
        "        jenis = \"Ganjil\"\n",
        "\n",
        "    if cek_prima(n):\n",
        "        jenis += \" dan Prima\"\n",
        "\n",
        "    return jenis"
      ],
      "metadata": {
        "id": "zL20s60H1GSJ"
      },
      "execution_count": null,
      "outputs": []
    },
    {
      "cell_type": "code",
      "source": [
        "hasil = cek_bilangan(angka)\n",
        "\n",
        "\n",
        "print(f\"Bilangan {angka} adalah {hasil}.\")"
      ],
      "metadata": {
        "colab": {
          "base_uri": "https://localhost:8080/"
        },
        "id": "v0EmBNhp1RR2",
        "outputId": "c14ff09f-3b21-48e8-b5ee-3bffb087ab83"
      },
      "execution_count": null,
      "outputs": [
        {
          "output_type": "stream",
          "name": "stdout",
          "text": [
            "Bilangan 3 adalah Ganjil dan Prima.\n"
          ]
        }
      ]
    },
    {
      "cell_type": "code",
      "source": [
        "angka = int(input(\"Masukkan bilangan: \"))\n",
        "\n",
        "def cek_prima(n):\n",
        "    if n < 2:\n",
        "        return False\n",
        "    for i in range(2, int(n ** 0.5) + 1):\n",
        "        if n % i == 0:\n",
        "            return False\n",
        "    return True\n",
        "\n",
        "def cek_bilangan(n):\n",
        "    if n % 2 == 0:\n",
        "        jenis = \"Genap\"\n",
        "    else:\n",
        "        jenis = \"Ganjil\"\n",
        "\n",
        "    if cek_prima(n):\n",
        "        jenis += \" dan Prima\"\n",
        "\n",
        "    return jenis\n",
        "\n",
        "hasil = cek_bilangan(angka)\n",
        "\n",
        "\n",
        "print(f\"Bilangan {angka} adalah {hasil}.\")"
      ],
      "metadata": {
        "colab": {
          "base_uri": "https://localhost:8080/"
        },
        "id": "U67SpX8w1aoo",
        "outputId": "2eab2551-6abd-4bab-eb21-f273559cb1a9"
      },
      "execution_count": 1,
      "outputs": [
        {
          "output_type": "stream",
          "name": "stdout",
          "text": [
            "Masukkan bilangan: 11\n",
            "Bilangan 11 adalah Ganjil dan Prima.\n"
          ]
        }
      ]
    }
  ]
}